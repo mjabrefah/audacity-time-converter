{
 "cells": [
  {
   "cell_type": "markdown",
   "id": "4ce03f6b-9559-4b6b-9c24-f451f9d59157",
   "metadata": {},
   "source": [
    "### Format specifiers\n",
    "1. <b>:02</b> : This is a format specifier that ensures the hours are displayed as at least two digits, padding with zeroes if necessary. For example, 3 becomes 03.\n",
    " \n",
    "2. <b>:06.3f</b> : This is a more complex format specifier:\n",
    "-   06: This ensures the total length of the formatted number is at least six characters, including the decimal point and fractional digits. Padding with zeroes is done if necessary.\n",
    "-   .3f: This indicates that the number should be formatted as a floating-point number with exactly three digits after the decimal point. For example, 9.5 becomes 09.500."
   ]
  },
  {
   "cell_type": "code",
   "execution_count": 4,
   "id": "683789fd-334a-41ad-9b36-eb53dee727d5",
   "metadata": {},
   "outputs": [],
   "source": [
    "def seconds_to_hms(seconds):\n",
    "    h = int(seconds // 3600)\n",
    "    m = int((seconds % 3600) // 60)\n",
    "    s = seconds % 60\n",
    "    return f\"{h:02}:{m:02}:{s:06.3f}\"\n",
    "\n",
    "def convert_labels_file(input_file, output_file):\n",
    "    # Open the input file for reading and the output file for writing\n",
    "    with open(input_file, 'r') as infile, open(output_file, 'w') as outfile:\n",
    "        # Process each line in the input file\n",
    "        for line in infile:\n",
    "            # Split the line into parts (start time, end time, label text)\n",
    "            parts = line.strip().split()\n",
    "            # Check if the line has exactly 3 parts\n",
    "            if len(parts) == 3:\n",
    "                start_time, end_time, label = parts\n",
    "                # Convert start and end times from seconds to hh:mm:ss.sss format\n",
    "                start_time_hms = seconds_to_hms(float(start_time))\n",
    "                end_time_hms = seconds_to_hms(float(end_time))\n",
    "                # Write the converted times and label to the output file\n",
    "                outfile.write(f\"{start_time_hms}\\t{end_time_hms}\\t{label}\\n\")\n",
    "\n",
    "# Name of the input file with labels\n",
    "input_file = 'one_eight_contest_1.txt'\n",
    "# Add 'converted' to the 'input_file' name for the 'output_file' name\n",
    "# Name of the output file for converted labels\n",
    "output_file = 'one_eight_contest_1_converted.txt'\n",
    "# Convert and save the labels\n",
    "convert_labels_file(input_file, output_file)"
   ]
  }
 ],
 "metadata": {
  "kernelspec": {
   "display_name": "Python 3 (ipykernel)",
   "language": "python",
   "name": "python3"
  },
  "language_info": {
   "codemirror_mode": {
    "name": "ipython",
    "version": 3
   },
   "file_extension": ".py",
   "mimetype": "text/x-python",
   "name": "python",
   "nbconvert_exporter": "python",
   "pygments_lexer": "ipython3",
   "version": "3.11.5"
  }
 },
 "nbformat": 4,
 "nbformat_minor": 5
}
